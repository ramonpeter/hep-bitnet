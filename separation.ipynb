{
 "cells": [
  {
   "cell_type": "code",
   "execution_count": 1,
   "id": "9286cacc",
   "metadata": {},
   "outputs": [
    {
     "name": "stdout",
     "output_type": "stream",
     "text": [
      "SMEFTNet-2 vs SMEFTNet-1 separation power: 0.000128\n",
      "Bit100 vs SMEFTNet-1 separation power: 1.485956\n",
      "Bit70 vs SMEFTNet-1 separation power: 0.613751\n",
      "Bit30 vs SMEFTNet-1 separation power: 0.150274\n"
     ]
    }
   ],
   "source": [
    "import numpy as np\n",
    "from math import pi\n",
    "\n",
    "# -------- configuration --------\n",
    "N_BINS = 100          # histogram bins for residual PDFs\n",
    "EPS     = 1e-16       # numerical guard\n",
    "# --------------------------------\n",
    "\n",
    "\n",
    "def angular_difference(pred, true):\n",
    "    \"\"\"Wrap angle difference into (–π, π].\"\"\"\n",
    "    return (pred - true + np.pi) % (2 * np.pi) - np.pi\n",
    "\n",
    "\n",
    "def separation_power(pdf_p, pdf_q):\n",
    "    \"\"\"Triangular discrimination (separation power) between two PDFs.\"\"\"\n",
    "    denom = pdf_p + pdf_q + EPS\n",
    "    return 0.5 * np.sum((pdf_p - pdf_q) ** 2 / denom)\n",
    "\n",
    "\n",
    "# ---------- load data ----------\n",
    "data_smeft1 = np.load('SMEFTNET1.npy')\n",
    "data_smeft2 = np.load('SMEFTNET2.npy')\n",
    "data_bit100 = np.load('BITNET_100%.npy')\n",
    "data_bit70  = np.load('BITNET_70%.npy')\n",
    "data_bit30  = np.load('BITNET_30%.npy')\n",
    "\n",
    "# ground truth (same for all files) and reference prediction\n",
    "phi_true      = data_smeft1[:, 1]\n",
    "phi_pred_ref  = data_smeft1[:, 0]      # SMEFTNet-1 as reference\n",
    "\n",
    "# build reference residual histogram\n",
    "bins          = np.linspace(-pi, pi, N_BINS + 1)\n",
    "res_ref       = angular_difference(phi_pred_ref, phi_true)\n",
    "pdf_ref, _    = np.histogram(res_ref, bins=bins, density=True)\n",
    "\n",
    "# models to compare with reference\n",
    "compare_dict = {\n",
    "    \"SMEFTNet-2\"     : data_smeft2[:, 0],\n",
    "    \"Bit100\"         : data_bit100[:, 0],\n",
    "    \"Bit70\"          : data_bit70[:, 0],\n",
    "    \"Bit30\"          : data_bit30[:, 0],\n",
    "}\n",
    "\n",
    "# compute and print separation power for each model\n",
    "for label, pred in compare_dict.items():\n",
    "    res_model   = angular_difference(pred, phi_true)\n",
    "    pdf_model, _ = np.histogram(res_model, bins=bins, density=True)\n",
    "    sep = separation_power(pdf_ref, pdf_model)\n",
    "    print(f\"{label} vs SMEFTNet-1 separation power: {sep:.6f}\")\n",
    "\n"
   ]
  },
  {
   "cell_type": "code",
   "execution_count": 2,
   "id": "18ca6867",
   "metadata": {},
   "outputs": [
    {
     "name": "stdout",
     "output_type": "stream",
     "text": [
      "SMEFTNet-2 vs SMEFTNet-1 Wasserstein distance: 0.002072 rad\n",
      "Bit100 vs SMEFTNet-1 Wasserstein distance: 0.454677 rad\n",
      "Bit70 vs SMEFTNet-1 Wasserstein distance: 0.252825 rad\n",
      "Bit30 vs SMEFTNet-1 Wasserstein distance: 0.104013 rad\n"
     ]
    }
   ],
   "source": [
    "import numpy as np\n",
    "from math import pi\n",
    "from scipy.stats import wasserstein_distance   # 1-Wasserstein (Earth-Mover) distance\n",
    "\n",
    "# -------- configuration --------\n",
    "def angular_difference(pred, true):\n",
    "    \"\"\"Wrap angle difference into (–π, π].\"\"\"\n",
    "    return (pred - true + np.pi) % (2 * np.pi) - np.pi\n",
    "\n",
    "\n",
    "# ---------- load data ----------\n",
    "data_smeft1 = np.load('SMEFTNET1.npy')\n",
    "data_smeft2 = np.load('SMEFTNET2.npy')\n",
    "data_bit100 = np.load('BITNET_100%.npy')\n",
    "data_bit70  = np.load('BITNET_70%.npy')\n",
    "data_bit30  = np.load('BITNET_30%.npy')\n",
    "\n",
    "# reference truth and prediction\n",
    "phi_true      = data_smeft1[:, 1]\n",
    "phi_pred_ref  = data_smeft1[:, 0]          # SMEFTNet-1\n",
    "\n",
    "# residuals for reference model (wrapped)\n",
    "res_ref = angular_difference(phi_pred_ref, phi_true)\n",
    "\n",
    "# comparison models\n",
    "compare_dict = {\n",
    "    \"SMEFTNet-2\" : data_smeft2[:, 0],\n",
    "    \"Bit100\"     : data_bit100[:, 0],\n",
    "    \"Bit70\"      : data_bit70[:, 0],\n",
    "    \"Bit30\"      : data_bit30[:, 0],\n",
    "}\n",
    "\n",
    "# compute and print Wasserstein-1 distance (units: radians)\n",
    "for label, pred in compare_dict.items():\n",
    "    res_model = angular_difference(pred, phi_true)\n",
    "    wd = wasserstein_distance(res_ref, res_model)\n",
    "    print(f\"{label} vs SMEFTNet-1 Wasserstein distance: {wd:.6f} rad\")\n",
    "\n"
   ]
  },
  {
   "cell_type": "code",
   "execution_count": null,
   "id": "2a5371e7",
   "metadata": {},
   "outputs": [],
   "source": []
  }
 ],
 "metadata": {
  "kernelspec": {
   "display_name": "Python 3 (ipykernel)",
   "language": "python",
   "name": "python3"
  },
  "language_info": {
   "codemirror_mode": {
    "name": "ipython",
    "version": 3
   },
   "file_extension": ".py",
   "mimetype": "text/x-python",
   "name": "python",
   "nbconvert_exporter": "python",
   "pygments_lexer": "ipython3",
   "version": "3.8.10"
  }
 },
 "nbformat": 4,
 "nbformat_minor": 5
}
